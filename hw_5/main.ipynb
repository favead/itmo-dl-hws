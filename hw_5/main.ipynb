{
 "cells": [
  {
   "cell_type": "code",
   "execution_count": 26,
   "id": "f3d1f68b",
   "metadata": {},
   "outputs": [],
   "source": [
    "from dataclasses import dataclass\n",
    "from typing import Any, Dict, Tuple\n",
    "\n",
    "from datasets import DatasetDict, load_dataset\n",
    "from transformers import (\n",
    "    AutoTokenizer,\n",
    "    AutoModelForSequenceClassification,\n",
    "    PreTrainedTokenizer,\n",
    ")"
   ]
  },
  {
   "cell_type": "code",
   "execution_count": 20,
   "id": "c7c78536",
   "metadata": {},
   "outputs": [],
   "source": [
    "dataset = load_dataset(\"dair-ai/emotion\", name=\"split\")"
   ]
  },
  {
   "cell_type": "code",
   "execution_count": 36,
   "id": "fba72cc3",
   "metadata": {},
   "outputs": [],
   "source": [
    "def get_id_label_mapping(dataset: DatasetDict) -> Tuple[Dict[int, str], Dict[str, int]]:\n",
    "    class_labels = dataset[\"train\"].features[\"label\"].names\n",
    "    id2label = {i: label for i, label in enumerate(class_labels)}\n",
    "    label2id = {v: k for k, v in id2label.items()}\n",
    "    return id2label, label2id\n",
    "\n",
    "\n",
    "def process_dataset(\n",
    "    dataset: DatasetDict, tokenizer: PreTrainedTokenizer\n",
    ") -> DatasetDict:\n",
    "    def tokenize(example):\n",
    "        return tokenizer(example[\"text\"], truncation=True, padding=\"max_length\")\n",
    "    dataset = dataset.map(tokenize, batched=True)\n",
    "    return dataset"
   ]
  },
  {
   "cell_type": "code",
   "execution_count": null,
   "id": "29163724",
   "metadata": {},
   "outputs": [],
   "source": [
    "id2label, label2id = get_id_label_mapping(dataset)"
   ]
  },
  {
   "cell_type": "code",
   "execution_count": 23,
   "id": "41b357c0",
   "metadata": {},
   "outputs": [
    {
     "name": "stderr",
     "output_type": "stream",
     "text": [
      "Some weights of ModernBertForSequenceClassification were not initialized from the model checkpoint at answerdotai/ModernBERT-base and are newly initialized: ['classifier.bias', 'classifier.weight']\n",
      "You should probably TRAIN this model on a down-stream task to be able to use it for predictions and inference.\n"
     ]
    }
   ],
   "source": [
    "MODEL_ID = \"answerdotai/ModernBERT-base\"\n",
    "tokenizer = AutoTokenizer.from_pretrained(MODEL_ID)\n",
    "model = AutoModelForSequenceClassification.from_pretrained(\n",
    "    MODEL_ID,\n",
    "    num_labels=len(id2label.keys()),\n",
    "    ignore_mismatched_sizes=True,\n",
    "    trust_remote_code=True,\n",
    ")"
   ]
  },
  {
   "cell_type": "code",
   "execution_count": null,
   "id": "0a8ae213",
   "metadata": {},
   "outputs": [
    {
     "name": "stderr",
     "output_type": "stream",
     "text": [
      "Map:   0%|          | 0/16000 [00:00<?, ? examples/s]"
     ]
    }
   ],
   "source": [
    "process_dataset = process_dataset(dataset, tokenizer)"
   ]
  },
  {
   "cell_type": "code",
   "execution_count": null,
   "id": "4138bc92",
   "metadata": {},
   "outputs": [],
   "source": [
    "@dataclass\n",
    "class FineTuningMetrics:\n",
    "    \"\"\"Метрики, собранные в процессе файн-тюнинга.\"\"\"\n",
    "\n",
    "    classification_report: Dict[str, Any]\n",
    "    training_time: float\n",
    "    trainable_params: int\n",
    "    peak_memory_usage: float"
   ]
  }
 ],
 "metadata": {
  "kernelspec": {
   "display_name": ".venv",
   "language": "python",
   "name": "python3"
  },
  "language_info": {
   "codemirror_mode": {
    "name": "ipython",
    "version": 3
   },
   "file_extension": ".py",
   "mimetype": "text/x-python",
   "name": "python",
   "nbconvert_exporter": "python",
   "pygments_lexer": "ipython3",
   "version": "3.12.3"
  }
 },
 "nbformat": 4,
 "nbformat_minor": 5
}
